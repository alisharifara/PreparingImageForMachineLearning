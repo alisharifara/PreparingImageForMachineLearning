{
 "cells": [
  {
   "cell_type": "code",
   "execution_count": 122,
   "metadata": {},
   "outputs": [],
   "source": [
    "import numpy as np\n",
    "import matplotlib.pyplot as plt\n",
    "\n",
    "from sklearn.cluster import spectral_clustering\n",
    "from sklearn.feature_extraction import image"
   ]
  },
  {
   "cell_type": "code",
   "execution_count": 8,
   "metadata": {},
   "outputs": [],
   "source": [
    "# we are going to create an image and add noise to that image\n",
    "# this is going to be an 100x100 image\n",
    "# np.indices : get the position of each coordinate\n",
    "l = 100\n",
    "x,y = np.indices((l,l))"
   ]
  },
  {
   "cell_type": "code",
   "execution_count": 9,
   "metadata": {},
   "outputs": [
    {
     "data": {
      "text/plain": [
       "array([[ 0,  0,  0, ...,  0,  0,  0],\n",
       "       [ 1,  1,  1, ...,  1,  1,  1],\n",
       "       [ 2,  2,  2, ...,  2,  2,  2],\n",
       "       ...,\n",
       "       [97, 97, 97, ..., 97, 97, 97],\n",
       "       [98, 98, 98, ..., 98, 98, 98],\n",
       "       [99, 99, 99, ..., 99, 99, 99]])"
      ]
     },
     "execution_count": 9,
     "metadata": {},
     "output_type": "execute_result"
    }
   ],
   "source": [
    "x"
   ]
  },
  {
   "cell_type": "code",
   "execution_count": 10,
   "metadata": {},
   "outputs": [
    {
     "data": {
      "text/plain": [
       "array([[ 0,  1,  2, ..., 97, 98, 99],\n",
       "       [ 0,  1,  2, ..., 97, 98, 99],\n",
       "       [ 0,  1,  2, ..., 97, 98, 99],\n",
       "       ...,\n",
       "       [ 0,  1,  2, ..., 97, 98, 99],\n",
       "       [ 0,  1,  2, ..., 97, 98, 99],\n",
       "       [ 0,  1,  2, ..., 97, 98, 99]])"
      ]
     },
     "execution_count": 10,
     "metadata": {},
     "output_type": "execute_result"
    }
   ],
   "source": [
    "y"
   ]
  },
  {
   "cell_type": "code",
   "execution_count": 78,
   "metadata": {},
   "outputs": [],
   "source": [
    "center1 = (28,24)\n",
    "center2 = (40,50)\n",
    "center3 = (67,58)\n",
    "center4 = (24,70)\n",
    "center5 = (61,27)\n",
    "\n",
    "radius1, radius2, radius3, radius4, radius5 = 16,14,15,14,17"
   ]
  },
  {
   "cell_type": "code",
   "execution_count": 81,
   "metadata": {},
   "outputs": [],
   "source": [
    "# to check if a pixel is inside a circle or outside of a circle\n",
    "circle1 = (x - center1[0])**2 + ( y - center1[1])**2 < radius1**2 \n",
    "circle2 = (x - center2[0])**2 + ( y - center2[1])**2 < radius2**2 \n",
    "circle3 = (x - center3[0])**2 + ( y - center3[1])**2 < radius3**2 \n",
    "circle4 = (x - center4[0])**2 + ( y - center4[1])**2 < radius4**2 \n",
    "circle5 = (x - center5[0])**2 + ( y - center5[1])**2 < radius5**2 "
   ]
  },
  {
   "cell_type": "code",
   "execution_count": 82,
   "metadata": {},
   "outputs": [
    {
     "data": {
      "image/png": "[encoded data removed]",
      "text/plain": [
       "<Figure size 720x360 with 1 Axes>"
      ]
     },
     "metadata": {
      "needs_background": "light"
     },
     "output_type": "display_data"
    }
   ],
   "source": [
    "img = circle1 + circle2 + circle3 + circle4 + circle5\n",
    "\n",
    "plt.figure(figsize=(10,5))\n",
    "plt.imshow(img)\n",
    "plt.show()"
   ]
  },
  {
   "cell_type": "code",
   "execution_count": 83,
   "metadata": {},
   "outputs": [
    {
     "data": {
      "text/plain": [
       "((100, 100), (100, 100))"
      ]
     },
     "execution_count": 83,
     "metadata": {},
     "output_type": "execute_result"
    }
   ],
   "source": [
    "mask = img.astype(bool)\n",
    "\n",
    "img = img.astype(float)\n",
    "\n",
    "mask.shape, img.shape"
   ]
  },
  {
   "cell_type": "code",
   "execution_count": 84,
   "metadata": {},
   "outputs": [
    {
     "data": {
      "text/plain": [
       "array([[False, False, False, ..., False, False, False],\n",
       "       [False, False, False, ..., False, False, False],\n",
       "       [False, False, False, ..., False, False, False],\n",
       "       ...,\n",
       "       [False, False, False, ..., False, False, False],\n",
       "       [False, False, False, ..., False, False, False],\n",
       "       [False, False, False, ..., False, False, False]])"
      ]
     },
     "execution_count": 84,
     "metadata": {},
     "output_type": "execute_result"
    }
   ],
   "source": [
    "mask"
   ]
  },
  {
   "cell_type": "code",
   "execution_count": 85,
   "metadata": {},
   "outputs": [
    {
     "data": {
      "text/plain": [
       "array([[0., 0., 0., ..., 0., 0., 0.],\n",
       "       [0., 0., 0., ..., 0., 0., 0.],\n",
       "       [0., 0., 0., ..., 0., 0., 0.],\n",
       "       ...,\n",
       "       [0., 0., 0., ..., 0., 0., 0.],\n",
       "       [0., 0., 0., ..., 0., 0., 0.],\n",
       "       [0., 0., 0., ..., 0., 0., 0.]])"
      ]
     },
     "execution_count": 85,
     "metadata": {},
     "output_type": "execute_result"
    }
   ],
   "source": [
    "# now img is float values\n",
    "img"
   ]
  },
  {
   "cell_type": "code",
   "execution_count": 86,
   "metadata": {},
   "outputs": [
    {
     "data": {
      "image/png": "[encoded data removed]",
      "text/plain": [
       "<Figure size 864x360 with 1 Axes>"
      ]
     },
     "metadata": {
      "needs_background": "light"
     },
     "output_type": "display_data"
    }
   ],
   "source": [
    "#adding some random noise\n",
    "img += 1 + 0.2 * np.random.randn(*img.shape)\n",
    "plt.figure(figsize=(12,5))\n",
    "plt.imshow(img)\n",
    "plt.show()"
   ]
  },
  {
   "cell_type": "code",
   "execution_count": 90,
   "metadata": {},
   "outputs": [
    {
     "name": "stdout",
     "output_type": "stream",
     "text": [
      "  (0, 1)\t0.043528949465324374\n",
      "  (1, 2)\t0.33113814503954386\n",
      "  (2, 3)\t0.5600245473143424\n",
      "  (3, 4)\t0.41162982506189794\n",
      "  (4, 5)\t0.24940236732273968\n",
      "  (5, 6)\t0.21175430507194593\n",
      "  (6, 7)\t0.5945133554872868\n",
      "  (7, 8)\t0.5521133686710185\n",
      "  (8, 9)\t0.06257864939150548\n",
      "  (9, 10)\t0.2392128951028043\n",
      "  (11, 12)\t0.2030182115662984\n",
      "  (12, 13)\t0.2520985400650839\n",
      "  (13, 14)\t0.2489527979455144\n",
      "  (14, 15)\t0.4822637792567026\n",
      "  (15, 16)\t0.05011958351636148\n",
      "  (16, 17)\t0.38004363250606343\n",
      "  (17, 18)\t0.11534668006491722\n",
      "  (18, 19)\t0.06540313908692585\n",
      "  (19, 20)\t0.16378853153778827\n",
      "  (20, 21)\t0.16279304544988493\n",
      "  (21, 22)\t0.061283945718300536\n",
      "  (22, 23)\t0.2725012903809527\n",
      "  (23, 24)\t0.5446739437739225\n",
      "  (24, 25)\t0.6061626135653242\n",
      "  (26, 27)\t0.05038426521327288\n",
      "  :\t:\n",
      "  (3542, 3542)\t1.7488249552754636\n",
      "  (3543, 3543)\t2.001431676578556\n",
      "  (3544, 3544)\t1.5970734730727991\n",
      "  (3545, 3545)\t1.8511723191006764\n",
      "  (3546, 3546)\t1.8609207600017394\n",
      "  (3547, 3547)\t2.0934696295533737\n",
      "  (3548, 3548)\t1.6909840727737475\n",
      "  (3549, 3549)\t2.1301572009784815\n",
      "  (3550, 3550)\t1.9329974046867275\n",
      "  (3551, 3551)\t1.7137915541713655\n",
      "  (3552, 3552)\t1.9962616943260723\n",
      "  (3553, 3553)\t2.0804190753044196\n",
      "  (3554, 3554)\t2.0560275029677655\n",
      "  (3555, 3555)\t2.318640354229606\n",
      "  (3556, 3556)\t2.0124341938972794\n",
      "  (3557, 3557)\t2.1846117245232386\n",
      "  (3558, 3558)\t1.8641665252834934\n",
      "  (3559, 3559)\t1.9640434109892586\n",
      "  (3560, 3560)\t1.7550423048498769\n",
      "  (3561, 3561)\t2.1748143154501887\n",
      "  (3562, 3562)\t1.8397919896641282\n",
      "  (3563, 3563)\t1.9496493106192014\n",
      "  (3564, 3564)\t1.8641856371519705\n",
      "  (3565, 3565)\t1.973749767267495\n",
      "  (3566, 3566)\t1.8295740764924087\n"
     ]
    }
   ],
   "source": [
    "# img_to_graph : geenrates pixel to pixel gradient connections in an image\n",
    "# The output is a sparse matrix\n",
    "graph = image.img_to_graph(img, mask=mask)\n",
    "print(graph)"
   ]
  },
  {
   "cell_type": "code",
   "execution_count": 91,
   "metadata": {},
   "outputs": [
    {
     "data": {
      "text/plain": [
       "(3567, 3567)"
      ]
     },
     "execution_count": 91,
     "metadata": {},
     "output_type": "execute_result"
    }
   ],
   "source": [
    "graph.shape"
   ]
  },
  {
   "cell_type": "code",
   "execution_count": 92,
   "metadata": {},
   "outputs": [
    {
     "data": {
      "text/plain": [
       "array([0.04352895, 0.33113815, 0.56002455, ..., 1.86418564, 1.97374977,\n",
       "       1.82957408])"
      ]
     },
     "execution_count": 92,
     "metadata": {},
     "output_type": "execute_result"
    }
   ],
   "source": [
    "graph.data"
   ]
  },
  {
   "cell_type": "code",
   "execution_count": 124,
   "metadata": {},
   "outputs": [],
   "source": [
    "labels = spectral_clustering(graph, n_clusters=5)"
   ]
  },
  {
   "cell_type": "code",
   "execution_count": 125,
   "metadata": {},
   "outputs": [
    {
     "data": {
      "text/plain": [
       "array([3, 3, 3, ..., 0, 0, 0], dtype=int32)"
      ]
     },
     "execution_count": 125,
     "metadata": {},
     "output_type": "execute_result"
    }
   ],
   "source": [
    "labels"
   ]
  },
  {
   "cell_type": "code",
   "execution_count": 128,
   "metadata": {},
   "outputs": [
    {
     "data": {
      "text/plain": [
       "array([[-1., -1., -1., ..., -1., -1., -1.],\n",
       "       [-1., -1., -1., ..., -1., -1., -1.],\n",
       "       [-1., -1., -1., ..., -1., -1., -1.],\n",
       "       ...,\n",
       "       [-1., -1., -1., ..., -1., -1., -1.],\n",
       "       [-1., -1., -1., ..., -1., -1., -1.],\n",
       "       [-1., -1., -1., ..., -1., -1., -1.]])"
      ]
     },
     "execution_count": 128,
     "metadata": {},
     "output_type": "execute_result"
    }
   ],
   "source": [
    "# in order to display the clusters in our image, we need to create an array of -1s with the same shape of img\n",
    "label_im = -np.ones(img.shape)\n",
    "label_im"
   ]
  },
  {
   "cell_type": "code",
   "execution_count": 130,
   "metadata": {},
   "outputs": [
    {
     "data": {
      "text/plain": [
       "array([3., 3., 3., ..., 0., 0., 0.])"
      ]
     },
     "execution_count": 130,
     "metadata": {},
     "output_type": "execute_result"
    }
   ],
   "source": [
    "label_im[mask] = labels\n",
    "label_im[mask]"
   ]
  },
  {
   "cell_type": "code",
   "execution_count": 131,
   "metadata": {},
   "outputs": [
    {
     "data": {
      "image/png": "[encoded data removed]",
      "text/plain": [
       "<Figure size 864x360 with 1 Axes>"
      ]
     },
     "metadata": {
      "needs_background": "light"
     },
     "output_type": "display_data"
    }
   ],
   "source": [
    "plt.figure(figsize=(12,5))\n",
    "plt.imshow(label_im)\n",
    "plt.show()"
   ]
  },
  {
   "cell_type": "code",
   "execution_count": null,
   "metadata": {},
   "outputs": [],
   "source": []
  }
 ],
 "metadata": {
  "kernelspec": {
   "display_name": "Python 3",
   "language": "python",
   "name": "python3"
  },
  "language_info": {
   "codemirror_mode": {
    "name": "ipython",
    "version": 3
   },
   "file_extension": ".py",
   "mimetype": "text/x-python",
   "name": "python",
   "nbconvert_exporter": "python",
   "pygments_lexer": "ipython3",
   "version": "3.6.8"
  }
 },
 "nbformat": 4,
 "nbformat_minor": 2
}
